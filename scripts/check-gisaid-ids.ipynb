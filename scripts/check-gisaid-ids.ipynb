{
 "cells": [
  {
   "cell_type": "code",
   "execution_count": 5,
   "metadata": {
    "collapsed": true
   },
   "outputs": [],
   "source": [
    "# Check if there are any missing  FASTA/metadata files\n",
    "import pandas as pd\n",
    "import glob"
   ]
  },
  {
   "cell_type": "code",
   "execution_count": 6,
   "metadata": {
    "collapsed": true
   },
   "outputs": [],
   "source": [
    "def check_missing_ids(official_table, id_list):\n",
    "    missing_ids = []\n",
    "    for accession_id in official_table:\n",
    "        if not accession_id in id_list:\n",
    "            missing_ids.append(accession_id)\n",
    "    return missing_ids\n",
    "\n",
    "fasta_ids = [accession_id.split('.')[0] for accession_id in glob.glob('EPI*.fasta')]\n",
    "pdf_ids = [accession_id.split('.')[0] for accession_id in glob.glob('EPI*.pdf')]"
   ]
  },
  {
   "cell_type": "code",
   "execution_count": 7,
   "metadata": {},
   "outputs": [],
   "source": [
    "# Gisaid acknowledgement table\n",
    "df = pd.read_excel('gisaid_cov2020_acknowledgement_table.xls')\n",
    "accession_ids = df['Accession ID'].values"
   ]
  },
  {
   "cell_type": "code",
   "execution_count": 8,
   "metadata": {},
   "outputs": [
    {
     "name": "stdout",
     "output_type": "stream",
     "text": [
      "3890\n",
      "3890\n"
     ]
    }
   ],
   "source": [
    "print(len(fasta_ids))\n",
    "print(len(pdf_ids))"
   ]
  },
  {
   "cell_type": "code",
   "execution_count": 9,
   "metadata": {},
   "outputs": [
    {
     "data": {
      "text/plain": [
       "set()"
      ]
     },
     "execution_count": 9,
     "metadata": {},
     "output_type": "execute_result"
    }
   ],
   "source": [
    "missing_fasta = check_missing_ids(accession_ids, fasta_ids)\n",
    "set(missing_fasta)"
   ]
  },
  {
   "cell_type": "code",
   "execution_count": null,
   "metadata": {},
   "outputs": [],
   "source": [
    "missing_pdf = check_missing_ids(accession_ids, pdf_ids)\n",
    "set(missing_pdf)"
   ]
  }
 ],
 "metadata": {
  "kernelspec": {
   "display_name": "Python 3",
   "language": "python",
   "name": "python3"
  },
  "language_info": {
   "codemirror_mode": {
    "name": "ipython",
    "version": 3
   },
   "file_extension": ".py",
   "mimetype": "text/x-python",
   "name": "python",
   "nbconvert_exporter": "python",
   "pygments_lexer": "ipython3",
   "version": "3.6.2"
  }
 },
 "nbformat": 4,
 "nbformat_minor": 2
}
